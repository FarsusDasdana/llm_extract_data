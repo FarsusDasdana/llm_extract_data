{
  "nbformat": 4,
  "nbformat_minor": 0,
  "metadata": {
    "colab": {
      "provenance": []
    },
    "kernelspec": {
      "name": "python3",
      "display_name": "Python 3"
    },
    "language_info": {
      "name": "python"
    }
  },
  "cells": [
    {
      "cell_type": "markdown",
      "source": [
        "## Installation"
      ],
      "metadata": {
        "id": "qK7Dh1tuzeg1"
      }
    },
    {
      "cell_type": "code",
      "execution_count": null,
      "metadata": {
        "id": "Ch-PftaSxIjA"
      },
      "outputs": [],
      "source": [
        "!pip install kor"
      ]
    },
    {
      "cell_type": "code",
      "source": [
        "# Kor!\n",
        "from kor.extraction import create_extraction_chain\n",
        "from kor.nodes import Object, Text, Number\n",
        "\n",
        "# LangChain Models\n",
        "from langchain.chat_models import ChatOpenAI\n",
        "from langchain.llms import OpenAI\n",
        "\n",
        "# Standard Helpers\n",
        "import json\n",
        "import os\n",
        "\n",
        "# For token counting\n",
        "from langchain.callbacks import get_openai_callback\n",
        "\n",
        "\n",
        "def printOutput(output):\n",
        "    print(json.dumps(output,sort_keys=True, indent=3))"
      ],
      "metadata": {
        "id": "eFWlogv_zU9p"
      },
      "execution_count": 4,
      "outputs": []
    },
    {
      "cell_type": "code",
      "source": [
        "os.environ[\"OPENAI_API_KEY\"] = input(\"OpenAI Key: \")"
      ],
      "metadata": {
        "id": "E96L5FvtzqVM"
      },
      "execution_count": 6,
      "outputs": []
    },
    {
      "cell_type": "markdown",
      "source": [
        "### LLM Model & Schema Function"
      ],
      "metadata": {
        "id": "CWEsagSR05Z3"
      }
    },
    {
      "cell_type": "code",
      "source": [
        "# define model\n",
        "llm = ChatOpenAI(\n",
        "    model_name=\"gpt-4\", # \"gpt-3.5-turbo\", \"gpt-4\"\n",
        "    temperature=0,\n",
        ")"
      ],
      "metadata": {
        "id": "Mo7HeZpA0mfb"
      },
      "execution_count": 28,
      "outputs": []
    },
    {
      "cell_type": "code",
      "source": [
        "def DefineSchema(id_name:str, description:tuple, atr_list:list):\n",
        "  \"\"\"\n",
        "  id = any key value as string\n",
        "  description = Give a solid explanation to the model what you looking for\n",
        "  attributes = Given list that contain id, description and few example (more is better) in order.\n",
        "  \"\"\"\n",
        "  id=id_name\n",
        "  description=description\n",
        "\n",
        "  attributes=[]\n",
        "  for atr in atr_list:\n",
        "    try:\n",
        "      id = atr[0]\n",
        "    except:\n",
        "      print(\"'key' is expected in string format as a first argument of your list\")\n",
        "\n",
        "    try:\n",
        "      description = atr[1]\n",
        "    except:\n",
        "      print(\"'description' of your key is expected in string format as a second argument of your list \")\n",
        "\n",
        "    try:\n",
        "      examples = atr[2]\n",
        "    except:\n",
        "      examples=None\n",
        "      print(f\"'examples' is not given for key: '{id}'. For better performance give an few sample in tuple format as a third argument of your list\")\n",
        "\n",
        "\n",
        "    # define text\n",
        "    if examples != None:\n",
        "      attributes.append(Text(id=id,\n",
        "          description=description,\n",
        "          examples=examples,\n",
        "          many=True,\n",
        "          ))\n",
        "    else:\n",
        "      attributes.append(Text(id=id,\n",
        "          description=description,\n",
        "          many=True,\n",
        "          ))\n",
        "    return schema"
      ],
      "metadata": {
        "id": "KrR2uWIp5quX"
      },
      "execution_count": 46,
      "outputs": []
    },
    {
      "cell_type": "markdown",
      "source": [
        "### Run an Example"
      ],
      "metadata": {
        "id": "2Y-nlarxBWyl"
      }
    },
    {
      "cell_type": "code",
      "source": [
        "# Define search prompt\n",
        "atr_list = [\n",
        " [\"date\",\n",
        "  \"year the user wants\",\n",
        "   [(\"please increase 2014's customers by 15%\", \"2014\"),\n",
        "    (\"raise %2 of the price at the at of the 2020\", \"2020\")]],\n",
        " [\"metric\",\n",
        "  \"The unit or metric a user would like to influence\",\n",
        "   [(\"please increase 2014's customers by 15%\", \"customers\")]],\n",
        " [\"amount\",\n",
        "  \"The quantity of a forecast adjustment\",\n",
        "   [(\"please increase 2014's customers by 15%\", \".15\")]]\n",
        " ]\n",
        "\n",
        "\n",
        "schema = DefineSchema(id_name=\"forecaster\",\n",
        "                      description=(\n",
        "                          \"User is controling an app that makes financial forecasts. \"\n",
        "                          \"They will give a command to update a forecast in the future\"\n",
        "                      ),\n",
        "                      atr_list=atr_list)"
      ],
      "metadata": {
        "id": "wm2E33s16ET3"
      },
      "execution_count": 51,
      "outputs": []
    },
    {
      "cell_type": "code",
      "source": [
        "# Create LLM chain\n",
        "chain = create_extraction_chain(llm, schema, encoder_or_encoder_class='json')"
      ],
      "metadata": {
        "id": "1LDZ8eu41VIk"
      },
      "execution_count": 52,
      "outputs": []
    },
    {
      "cell_type": "code",
      "source": [
        "t1 = \"decrease 7.12% discount to 2021\"\n",
        "\n",
        "t2 = \"please add 1.75 dolar to the sale price at 2017\"\n",
        "\n",
        "t3 = \"please add 15 more units sold to 2023\"\n",
        "\n",
        "for text in [t1,t2,t3]:\n",
        "  with get_openai_callback() as cb:\n",
        "    output = chain.run(text=(text))[\"data\"]\n",
        "    print(f\"Total Cost (USD): ${cb.total_cost}\")\n",
        "  printOutput(output)\n",
        "  print(\"\\n\\n\")"
      ],
      "metadata": {
        "colab": {
          "base_uri": "https://localhost:8080/"
        },
        "id": "AhXv6bOa1ViS",
        "outputId": "10d4b60e-81c1-4294-f56d-c2b2b48fc773"
      },
      "execution_count": 53,
      "outputs": [
        {
          "output_type": "stream",
          "name": "stdout",
          "text": [
            "Total Cost (USD): $0.01182\n",
            "{\n",
            "   \"forecaster\": {\n",
            "      \"amount\": [\n",
            "         \"7.12%\"\n",
            "      ],\n",
            "      \"metric\": [\n",
            "         \"discount\"\n",
            "      ],\n",
            "      \"year\": [\n",
            "         \"2021\"\n",
            "      ]\n",
            "   }\n",
            "}\n",
            "\n",
            "\n",
            "\n",
            "Total Cost (USD): $0.011940000000000001\n",
            "{\n",
            "   \"forecaster\": {\n",
            "      \"amount\": [\n",
            "         \"1.75\"\n",
            "      ],\n",
            "      \"metric\": [\n",
            "         \"sale price\"\n",
            "      ],\n",
            "      \"year\": [\n",
            "         \"2017\"\n",
            "      ]\n",
            "   }\n",
            "}\n",
            "\n",
            "\n",
            "\n",
            "Total Cost (USD): $0.01167\n",
            "{\n",
            "   \"forecaster\": {\n",
            "      \"amount\": [\n",
            "         \"15\"\n",
            "      ],\n",
            "      \"metric\": [\n",
            "         \"units sold\"\n",
            "      ],\n",
            "      \"year\": [\n",
            "         \"2023\"\n",
            "      ]\n",
            "   }\n",
            "}\n",
            "\n",
            "\n",
            "\n"
          ]
        }
      ]
    }
  ]
}